{
  "nbformat": 4,
  "nbformat_minor": 0,
  "metadata": {
    "colab": {
      "name": "Malaria.ipynb",
      "provenance": [],
      "authorship_tag": "ABX9TyOyfItHXfXbaBmy5HCihL14",
      "include_colab_link": true
    },
    "kernelspec": {
      "name": "python3",
      "display_name": "Python 3"
    }
  },
  "cells": [
    {
      "cell_type": "markdown",
      "metadata": {
        "id": "view-in-github",
        "colab_type": "text"
      },
      "source": [
        "<a href=\"https://colab.research.google.com/github/Madhusree18/SD03QO4CURNEU/blob/main/Malaria.ipynb\" target=\"_parent\"><img src=\"https://colab.research.google.com/assets/colab-badge.svg\" alt=\"Open In Colab\"/></a>"
      ]
    },
    {
      "cell_type": "code",
      "metadata": {
        "colab": {
          "base_uri": "https://localhost:8080/"
        },
        "id": "TxPm84sVG4We",
        "outputId": "7494ba1e-1c96-4487-8395-5c173ca3ea7c"
      },
      "source": [
        "import numpy as np\n",
        "import pandas as pd\n",
        "import seaborn as sns\n",
        "import matplotlib.pyplot as plt\n",
        "from scipy import stats\n",
        "from sklearn.decomposition import PCA\n",
        "from sklearn import preprocessing as prepro\n",
        "from sklearn.preprocessing import MinMaxScaler, LabelEncoder\n",
        "from sklearn.model_selection import train_test_split\n",
        "from keras.models import Sequential\n",
        "from keras.regularizers import l1, l2\n",
        "from keras.optimizers import Adam, SGD\n",
        "from keras.layers import Dense, Dropout, BatchNormalization, Conv2D, MaxPooling2D, Flatten\n",
        "from imblearn.over_sampling import SMOTE\n",
        "from collections import Counter"
      ],
      "execution_count": 1,
      "outputs": [
        {
          "output_type": "stream",
          "text": [
            "/usr/local/lib/python3.6/dist-packages/sklearn/externals/six.py:31: FutureWarning: The module is deprecated in version 0.21 and will be removed in version 0.23 since we've dropped support for Python 2.7. Please rely on the official version of six (https://pypi.org/project/six/).\n",
            "  \"(https://pypi.org/project/six/).\", FutureWarning)\n",
            "/usr/local/lib/python3.6/dist-packages/sklearn/utils/deprecation.py:144: FutureWarning: The sklearn.neighbors.base module is  deprecated in version 0.22 and will be removed in version 0.24. The corresponding classes / functions should instead be imported from sklearn.neighbors. Anything that cannot be imported from sklearn.neighbors is now part of the private API.\n",
            "  warnings.warn(message, FutureWarning)\n"
          ],
          "name": "stderr"
        }
      ]
    },
    {
      "cell_type": "code",
      "metadata": {
        "id": "t6-7aVx3IfkT"
      },
      "source": [
        "estimated = pd.read_csv('/content/estimated_numbers.csv')\n",
        "incidence = pd.read_csv('/content/incidence_per_1000_pop_at_risk.csv')\n",
        "reported = pd.read_csv('/content/reported_numbers.csv')\n",
        "test = incidence[:107]"
      ],
      "execution_count": 2,
      "outputs": []
    },
    {
      "cell_type": "code",
      "metadata": {
        "id": "lQ4M35rIJmO8"
      },
      "source": [
        "reported = pd.concat([reported, pd.get_dummies(reported['Country'])], axis=1)"
      ],
      "execution_count": 3,
      "outputs": []
    },
    {
      "cell_type": "code",
      "metadata": {
        "id": "R-EBBbabKTfL"
      },
      "source": [
        "cols = ['Country', 'WHO Region']\n",
        "for col in cols:\n",
        "    le = LabelEncoder()\n",
        "    letest = LabelEncoder()\n",
        "    reported[col] = le.fit_transform(reported[col])"
      ],
      "execution_count": 6,
      "outputs": []
    },
    {
      "cell_type": "code",
      "metadata": {
        "id": "YqYgstCjKdMe"
      },
      "source": [
        "reported['Incidence'] = (incidence['No. of cases'][107:]).reset_index(drop=True)\n",
        "reported['Cases bin'] = pd.cut(reported['No. of cases'], bins=[0, 100, 1000, 10000, 100000, 1000000, 16000000], labels=[0, 1, 2, 3, 4, 5]).fillna(0)\n",
        "reported['Incidence bin'] = pd.cut(reported['Incidence'], bins=[0, 0.3, 5, 45, 250, 800], labels=[0, 1, 2, 3, 4]).fillna(0)\n",
        "reported = reported.fillna(0)"
      ],
      "execution_count": 7,
      "outputs": []
    },
    {
      "cell_type": "code",
      "metadata": {
        "id": "9oF4mWgKKhdi"
      },
      "source": [
        "reported['Log no. of cases'] = (reported['No. of cases']+1).transform(np.log)\n",
        "reported['Box Cox no. of cases'] = stats.boxcox(reported['No. of cases']+1)[0]\n",
        "\n",
        "reported['Log WHO Region'] = (reported['WHO Region']+1).transform(np.log)\n",
        "reported['Box Cox WHO Region'] = stats.boxcox(reported['WHO Region']+1)[0]\n",
        "\n",
        "reported['Log Incidence'] = (reported['Incidence']+1).transform(np.log)\n",
        "reported['Box Cox Incidence'] = stats.boxcox(reported['Incidence']+1)[0]"
      ],
      "execution_count": 8,
      "outputs": []
    },
    {
      "cell_type": "code",
      "metadata": {
        "id": "mx6GOyvbKuzq"
      },
      "source": [
        "reported['Cases minmax'] = prepro.minmax_scale(reported[['No. of cases']])\n",
        "reported['Cases standardized'] = prepro.StandardScaler().fit_transform(reported[['No. of cases']])\n",
        "reported['Cases l2'] = prepro.normalize(reported[['No. of cases']])\n",
        "\n",
        "reported['Incidence minmax'] = prepro.minmax_scale(reported[['Incidence']])\n",
        "reported['Incidence standardized'] = prepro.StandardScaler().fit_transform(reported[['Incidence']])\n",
        "reported['Incidence l2'] = prepro.normalize(reported[['Incidence']])"
      ],
      "execution_count": 9,
      "outputs": []
    },
    {
      "cell_type": "code",
      "metadata": {
        "id": "UIFdefOoLGWA"
      },
      "source": [
        "y = reported['No. of deaths']\n",
        "X = reported.drop('No. of deaths', axis=1).reset_index(drop=True)"
      ],
      "execution_count": 10,
      "outputs": []
    },
    {
      "cell_type": "code",
      "metadata": {
        "id": "O-BzNQx4LNtX",
        "outputId": "20cdf184-800b-4e10-a29a-79d7bba88897",
        "colab": {
          "base_uri": "https://localhost:8080/",
          "height": 573
        }
      },
      "source": [
        "count=Counter(reported['Cases bin'])\n",
        "plt.bar(count.keys(), count.values(), color='blue')\n",
        "plt.title('Cases bin')\n",
        "plt.ylabel('Cases')\n",
        "plt.xlabel('Bin')\n",
        "plt.show()\n",
        "\n",
        "count=Counter(reported['Incidence bin'])\n",
        "plt.bar(count.keys(), count.values(), color='red')\n",
        "plt.title('Incidence bin')\n",
        "plt.ylabel('Incidence')\n",
        "plt.xlabel('Bin')\n",
        "plt.show()"
      ],
      "execution_count": 11,
      "outputs": [
        {
          "output_type": "display_data",
          "data": {
            "image/png": "[encoded data removed]",
            "text/plain": [
              "<Figure size 432x288 with 1 Axes>"
            ]
          },
          "metadata": {
            "tags": [],
            "needs_background": "light"
          }
        },
        {
          "output_type": "display_data",
          "data": {
            "image/png": "[encoded data removed]",
            "text/plain": [
              "<Figure size 432x288 with 1 Axes>"
            ]
          },
          "metadata": {
            "tags": [],
            "needs_background": "light"
          }
        }
      ]
    },
    {
      "cell_type": "code",
      "metadata": {
        "id": "Dc1HCdxWMXAW"
      },
      "source": [
        "X_train, X_val, y_train, y_val = train_test_split(X, y, test_size=0.2, random_state=1)\n",
        "X_train = prepro.minmax_scale(X_train)\n",
        "X_val = prepro.minmax_scale(X_val)"
      ],
      "execution_count": 14,
      "outputs": []
    },
    {
      "cell_type": "code",
      "metadata": {
        "id": "o8mZTi-4LUci",
        "outputId": "391e57d3-dd60-4ea4-81e8-a2431c9c4cba",
        "colab": {
          "base_uri": "https://localhost:8080/"
        }
      },
      "source": [
        "model = Sequential()\n",
        "\n",
        "model.add(Dense(128, activation='relu', kernel_regularizer=l2(1.0), kernel_initializer='RandomUniform', input_dim=127))\n",
        "model.add(BatchNormalization())\n",
        "model.add(Dropout(0.325))\n",
        "\n",
        "model.add(Dense(86, activation='relu', kernel_regularizer=l2(1.0), kernel_initializer='RandomUniform'))\n",
        "model.add(BatchNormalization())\n",
        "model.add(Dropout(0.325))\n",
        "\n",
        "model.add(Dense(58, activation='relu', kernel_regularizer=l2(1.0), kernel_initializer='RandomUniform'))\n",
        "model.add(BatchNormalization())\n",
        "model.add(Dropout(0.325))\n",
        "\n",
        "model.add(Dense(1, activation='sigmoid'))\n",
        "\n",
        "model.compile(metrics=['accuracy'], loss='binary_crossentropy', optimizer=Adam(lr=0.0001, epsilon=2e-06))\n",
        "history=model.fit(X_train, y_train, validation_data=(X_val, y_val), epochs=98, batch_size=32, steps_per_epoch=100)"
      ],
      "execution_count": 15,
      "outputs": [
        {
          "output_type": "stream",
          "text": [
            "Epoch 1/98\n",
            "100/100 [==============================] - 0s 5ms/step - loss: -2532.2366 - accuracy: 0.2508 - val_loss: -136.2799 - val_accuracy: 0.0411\n",
            "Epoch 2/98\n",
            "100/100 [==============================] - 0s 3ms/step - loss: -6509.2969 - accuracy: 0.2647 - val_loss: -445.5575 - val_accuracy: 0.0411\n",
            "Epoch 3/98\n",
            "100/100 [==============================] - 0s 3ms/step - loss: -10816.7510 - accuracy: 0.2697 - val_loss: -1182.3843 - val_accuracy: 0.2314\n",
            "Epoch 4/98\n",
            "100/100 [==============================] - 0s 2ms/step - loss: -14338.5049 - accuracy: 0.2719 - val_loss: -2936.8408 - val_accuracy: 0.2468\n",
            "Epoch 5/98\n",
            "100/100 [==============================] - 0s 2ms/step - loss: -16456.6621 - accuracy: 0.2817 - val_loss: -5600.0645 - val_accuracy: 0.2545\n",
            "Epoch 6/98\n",
            "100/100 [==============================] - 0s 3ms/step - loss: -20056.7051 - accuracy: 0.2773 - val_loss: -9746.8096 - val_accuracy: 0.2622\n",
            "Epoch 7/98\n",
            "100/100 [==============================] - 0s 3ms/step - loss: -23703.0879 - accuracy: 0.2899 - val_loss: -12448.4951 - val_accuracy: 0.2699\n",
            "Epoch 8/98\n",
            "100/100 [==============================] - 0s 3ms/step - loss: -24614.5176 - accuracy: 0.2914 - val_loss: -16505.8867 - val_accuracy: 0.2725\n",
            "Epoch 9/98\n",
            "100/100 [==============================] - 0s 2ms/step - loss: -30285.1562 - accuracy: 0.2990 - val_loss: -17892.3496 - val_accuracy: 0.2776\n",
            "Epoch 10/98\n",
            "100/100 [==============================] - 0s 3ms/step - loss: -31011.9102 - accuracy: 0.2949 - val_loss: -19336.2109 - val_accuracy: 0.2802\n",
            "Epoch 11/98\n",
            "100/100 [==============================] - 0s 3ms/step - loss: -38121.6289 - accuracy: 0.3043 - val_loss: -21463.5703 - val_accuracy: 0.2828\n",
            "Epoch 12/98\n",
            "100/100 [==============================] - 0s 2ms/step - loss: -38770.4531 - accuracy: 0.2962 - val_loss: -21228.2012 - val_accuracy: 0.2853\n",
            "Epoch 13/98\n",
            "100/100 [==============================] - 0s 3ms/step - loss: -40620.4766 - accuracy: 0.3091 - val_loss: -23766.1797 - val_accuracy: 0.2853\n",
            "Epoch 14/98\n",
            "100/100 [==============================] - 0s 3ms/step - loss: -46130.9961 - accuracy: 0.3006 - val_loss: -24003.5781 - val_accuracy: 0.2853\n",
            "Epoch 15/98\n",
            "100/100 [==============================] - 0s 3ms/step - loss: -48945.5508 - accuracy: 0.3059 - val_loss: -24143.9609 - val_accuracy: 0.2931\n",
            "Epoch 16/98\n",
            "100/100 [==============================] - 0s 2ms/step - loss: -52835.2109 - accuracy: 0.3047 - val_loss: -26995.3652 - val_accuracy: 0.2931\n",
            "Epoch 17/98\n",
            "100/100 [==============================] - 0s 2ms/step - loss: -57498.1211 - accuracy: 0.3009 - val_loss: -30054.8965 - val_accuracy: 0.2931\n",
            "Epoch 18/98\n",
            "100/100 [==============================] - 0s 3ms/step - loss: -60650.0117 - accuracy: 0.2965 - val_loss: -29306.3086 - val_accuracy: 0.2956\n",
            "Epoch 19/98\n",
            "100/100 [==============================] - 0s 3ms/step - loss: -60047.1836 - accuracy: 0.3078 - val_loss: -30079.9590 - val_accuracy: 0.2982\n",
            "Epoch 20/98\n",
            "100/100 [==============================] - 0s 3ms/step - loss: -67145.2422 - accuracy: 0.2965 - val_loss: -32215.5391 - val_accuracy: 0.2982\n",
            "Epoch 21/98\n",
            "100/100 [==============================] - 0s 3ms/step - loss: -67801.8359 - accuracy: 0.2946 - val_loss: -33527.4961 - val_accuracy: 0.2956\n",
            "Epoch 22/98\n",
            "100/100 [==============================] - 0s 3ms/step - loss: -75579.5156 - accuracy: 0.2820 - val_loss: -36140.6094 - val_accuracy: 0.2982\n",
            "Epoch 23/98\n",
            "100/100 [==============================] - 0s 3ms/step - loss: -76634.4375 - accuracy: 0.2946 - val_loss: -37485.6953 - val_accuracy: 0.2956\n",
            "Epoch 24/98\n",
            "100/100 [==============================] - 0s 3ms/step - loss: -77633.1719 - accuracy: 0.2984 - val_loss: -40915.2383 - val_accuracy: 0.2956\n",
            "Epoch 25/98\n",
            "100/100 [==============================] - 0s 3ms/step - loss: -82216.6172 - accuracy: 0.2869 - val_loss: -39020.5469 - val_accuracy: 0.2931\n",
            "Epoch 26/98\n",
            "100/100 [==============================] - 0s 3ms/step - loss: -89365.8672 - accuracy: 0.2791 - val_loss: -35627.9961 - val_accuracy: 0.2931\n",
            "Epoch 27/98\n",
            "100/100 [==============================] - 0s 3ms/step - loss: -87039.5078 - accuracy: 0.2694 - val_loss: -45064.0352 - val_accuracy: 0.2905\n",
            "Epoch 28/98\n",
            "100/100 [==============================] - 0s 3ms/step - loss: -92886.9453 - accuracy: 0.2807 - val_loss: -46701.9805 - val_accuracy: 0.2931\n",
            "Epoch 29/98\n",
            "100/100 [==============================] - 0s 3ms/step - loss: -91041.9141 - accuracy: 0.2785 - val_loss: -46814.4922 - val_accuracy: 0.2879\n",
            "Epoch 30/98\n",
            "100/100 [==============================] - 0s 3ms/step - loss: -101470.2031 - accuracy: 0.2870 - val_loss: -43908.5234 - val_accuracy: 0.2931\n",
            "Epoch 31/98\n",
            "100/100 [==============================] - 0s 3ms/step - loss: -102903.6406 - accuracy: 0.2873 - val_loss: -42614.8594 - val_accuracy: 0.2931\n",
            "Epoch 32/98\n",
            "100/100 [==============================] - 0s 3ms/step - loss: -102741.8203 - accuracy: 0.2719 - val_loss: -46275.3477 - val_accuracy: 0.2931\n",
            "Epoch 33/98\n",
            "100/100 [==============================] - 0s 3ms/step - loss: -107313.9766 - accuracy: 0.2672 - val_loss: -52778.6641 - val_accuracy: 0.2905\n",
            "Epoch 34/98\n",
            "100/100 [==============================] - 0s 3ms/step - loss: -117963.0938 - accuracy: 0.2555 - val_loss: -53132.0703 - val_accuracy: 0.2931\n",
            "Epoch 35/98\n",
            "100/100 [==============================] - 0s 2ms/step - loss: -112875.5469 - accuracy: 0.2741 - val_loss: -51536.2812 - val_accuracy: 0.2931\n",
            "Epoch 36/98\n",
            "100/100 [==============================] - 0s 3ms/step - loss: -117068.3438 - accuracy: 0.2574 - val_loss: -52346.6953 - val_accuracy: 0.2931\n",
            "Epoch 37/98\n",
            "100/100 [==============================] - 0s 3ms/step - loss: -126325.0234 - accuracy: 0.2464 - val_loss: -56252.1641 - val_accuracy: 0.2956\n",
            "Epoch 38/98\n",
            "100/100 [==============================] - 0s 3ms/step - loss: -122498.2578 - accuracy: 0.2615 - val_loss: -56106.9922 - val_accuracy: 0.2931\n",
            "Epoch 39/98\n",
            "100/100 [==============================] - 0s 3ms/step - loss: -126172.2891 - accuracy: 0.2583 - val_loss: -63306.6367 - val_accuracy: 0.2956\n",
            "Epoch 40/98\n",
            "100/100 [==============================] - 0s 3ms/step - loss: -131158.1250 - accuracy: 0.2574 - val_loss: -64861.0586 - val_accuracy: 0.2931\n",
            "Epoch 41/98\n",
            "100/100 [==============================] - 0s 2ms/step - loss: -136770.5781 - accuracy: 0.2546 - val_loss: -61935.8320 - val_accuracy: 0.2931\n",
            "Epoch 42/98\n",
            "100/100 [==============================] - 0s 3ms/step - loss: -138599.2500 - accuracy: 0.2505 - val_loss: -59513.6133 - val_accuracy: 0.2956\n",
            "Epoch 43/98\n",
            "100/100 [==============================] - 0s 3ms/step - loss: -141622.2969 - accuracy: 0.2398 - val_loss: -65381.6914 - val_accuracy: 0.2931\n",
            "Epoch 44/98\n",
            "100/100 [==============================] - 0s 3ms/step - loss: -145053.4219 - accuracy: 0.2527 - val_loss: -72445.2891 - val_accuracy: 0.2931\n",
            "Epoch 45/98\n",
            "100/100 [==============================] - 0s 3ms/step - loss: -144123.1875 - accuracy: 0.2388 - val_loss: -67205.1328 - val_accuracy: 0.2931\n",
            "Epoch 46/98\n",
            "100/100 [==============================] - 0s 2ms/step - loss: -149192.9375 - accuracy: 0.2511 - val_loss: -69476.5547 - val_accuracy: 0.2931\n",
            "Epoch 47/98\n",
            "100/100 [==============================] - 0s 3ms/step - loss: -149568.3906 - accuracy: 0.2398 - val_loss: -73020.4922 - val_accuracy: 0.2931\n",
            "Epoch 48/98\n",
            "100/100 [==============================] - 0s 3ms/step - loss: -154103.1406 - accuracy: 0.2413 - val_loss: -69759.2422 - val_accuracy: 0.2956\n",
            "Epoch 49/98\n",
            "  1/100 [..............................] - ETA: 0s - loss: -320229.6250 - accuracy: 0.1875WARNING:tensorflow:Your input ran out of data; interrupting training. Make sure that your dataset or generator can generate at least `steps_per_epoch * epochs` batches (in this case, 9800 batches). You may need to use the repeat() function when building your dataset.\n",
            "  2/100 [..............................] - 0s 36ms/step - loss: -290342.1562 - accuracy: 0.1373 - val_loss: -69412.4297 - val_accuracy: 0.2956\n"
          ],
          "name": "stdout"
        }
      ]
    },
    {
      "cell_type": "code",
      "metadata": {
        "id": "5op08VyRM6-w",
        "outputId": "e576e036-a1ad-4ead-b9cf-90130136f468",
        "colab": {
          "base_uri": "https://localhost:8080/"
        }
      },
      "source": [
        "score = model.evaluate(X_val, y_val)\n",
        "print('Accuracy: ' + str(score[1]) + ' Loss: ' + str(score[0]))"
      ],
      "execution_count": 16,
      "outputs": [
        {
          "output_type": "stream",
          "text": [
            "13/13 [==============================] - 0s 1ms/step - loss: -69412.4297 - accuracy: 0.2956\n",
            "Accuracy: 0.2956298291683197 Loss: -69412.4296875\n"
          ],
          "name": "stdout"
        }
      ]
    }
  ]
}